{
 "cells": [
  {
   "cell_type": "code",
   "execution_count": 71,
   "metadata": {},
   "outputs": [
    {
     "name": "stdout",
     "output_type": "stream",
     "text": [
      "('4342cf7c-6934-4799-ae2a-67680fff8872', 'login', '5f4dcc3b5aa765d61d8327deb882cf99', 0)\n",
      "('eb0fcdc5-45a5-4e0f-8f7e-a415a1557933', 'login', '5f4dcc3b5aa765d61d8327deb882cf99', 0)\n",
      "('186bb4e0-997d-483f-8ae0-e086e3852ecc', 'login', '5f4dcc3b5aa765d61d8327deb882cf99', 0)\n",
      "('e6cbdc66-c269-49f0-9910-e1cfa1107f25', 'login', '5f4dcc3b5aa765d61d8327deb882cf99', 0)\n",
      "('c1bff06f-11d3-4ed6-a74d-2b67fddd2154', 'test', '098f6bcd4621d373cade4e832627b4f6', 0)\n"
     ]
    }
   ],
   "source": [
    "import psycopg2\n",
    "\n",
    "conn = psycopg2.connect(\"host=localhost dbname=user_db user=kittenrage password=123\")\n",
    "cur = conn.cursor()\n",
    "cur.execute(\"SELECT * FROM users\")\n",
    "# (user_id, counter, version) = cur.fetchone()\n",
    "all = cur.fetchall()\n",
    "conn.commit()\n",
    "cur.close()\n",
    "for i in all: print(i)"
   ]
  },
  {
   "cell_type": "code",
   "execution_count": 64,
   "metadata": {},
   "outputs": [
    {
     "name": "stdout",
     "output_type": "stream",
     "text": [
      "Inserted 10 cat objects into the 'cats' collection.\n"
     ]
    }
   ],
   "source": [
    "from pymongo import MongoClient\n",
    "\n",
    "# Establish connection to MongoDB server\n",
    "client = MongoClient('mongodb://localhost:27017/')  # Replace with your MongoDB connection string\n",
    "\n",
    "# Access the \"pets\" database\n",
    "db = client['pets']\n",
    "\n",
    "# Access the \"cats\" collection within the \"pets\" database\n",
    "cats_collection = db['cats']\n",
    "\n",
    "# Define 10 different cat objects\n",
    "cats = [\n",
    "    {\"name\": \"Whiskers\", \"age\": 5, \"breed\": \"Persian\"},\n",
    "    {\"name\": \"Mittens\", \"age\": 3, \"breed\": \"Siamese\"},\n",
    "    {\"name\": \"Felix\", \"age\": 2, \"breed\": \"Maine Coon\"},\n",
    "    {\"name\": \"Luna\", \"age\": 1, \"breed\": \"Ragdoll\"},\n",
    "    {\"name\": \"Simba\", \"age\": 4, \"breed\": \"Bengal\"},\n",
    "    {\"name\": \"Tiger\", \"age\": 6, \"breed\": \"Siberian\"},\n",
    "    {\"name\": \"Oreo\", \"age\": 2, \"breed\": \"British Shorthair\"},\n",
    "    {\"name\": \"Shadow\", \"age\": 3, \"breed\": \"Scottish Fold\"},\n",
    "    {\"name\": \"Smokey\", \"age\": 4, \"breed\": \"Norwegian Forest\"},\n",
    "    {\"name\": \"Cleo\", \"age\": 2, \"breed\": \"Egyptian Mau\"}\n",
    "]\n",
    "\n",
    "# Insert each cat object into the \"cats\" collection\n",
    "for cat in cats:\n",
    "    cats_collection.insert_one(cat)\n",
    "\n",
    "print(\"Inserted 10 cat objects into the 'cats' collection.\")\n"
   ]
  },
  {
   "cell_type": "code",
   "execution_count": null,
   "metadata": {},
   "outputs": [],
   "source": [
    "cur.execute(\"CREATE TABLE users (user_id serial PRIMARY KEY, counter integer, version integer);\")\n",
    "cur.execute(f\"INSERT INTO users (user_id, counter, version) VALUES ({1}, {0}, {0});\")\n",
    "conn.commit() \n",
    "cur.close() "
   ]
  },
  {
   "cell_type": "code",
   "execution_count": 51,
   "metadata": {},
   "outputs": [],
   "source": [
    "cur = conn.cursor()\n",
    "cur.execute(\"DROP TABLE users;\")\n",
    "conn.commit() "
   ]
  },
  {
   "cell_type": "code",
   "execution_count": 66,
   "metadata": {},
   "outputs": [
    {
     "name": "stdout",
     "output_type": "stream",
     "text": [
      "[('4342cf7c-6934-4799-ae2a-67680fff8872', 'login', '5f4dcc3b5aa765d61d8327deb882cf99', 0)]\n"
     ]
    }
   ],
   "source": [
    "cur = conn.cursor()\n",
    "cur.execute(\"SELECT * FROM users;\")\n",
    "# (user_id, counter, version) = cur.fetchone()\n",
    "all = cur.fetchall()\n",
    "conn.commit()\n",
    "cur.close()\n",
    "print(all)"
   ]
  },
  {
   "cell_type": "code",
   "execution_count": 40,
   "metadata": {},
   "outputs": [
    {
     "name": "stdout",
     "output_type": "stream",
     "text": [
      "[('d1bbc9b1-0243-4f34-bb2c-6447d80c78db', '0', '0', 0)]\n"
     ]
    }
   ],
   "source": []
  }
 ],
 "metadata": {
  "kernelspec": {
   "display_name": "Python 3",
   "language": "python",
   "name": "python3"
  },
  "language_info": {
   "codemirror_mode": {
    "name": "ipython",
    "version": 3
   },
   "file_extension": ".py",
   "mimetype": "text/x-python",
   "name": "python",
   "nbconvert_exporter": "python",
   "pygments_lexer": "ipython3",
   "version": "3.12.2"
  }
 },
 "nbformat": 4,
 "nbformat_minor": 2
}
