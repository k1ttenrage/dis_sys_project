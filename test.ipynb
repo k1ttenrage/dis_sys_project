{
 "cells": [
  {
   "cell_type": "code",
   "execution_count": 30,
   "metadata": {},
   "outputs": [
    {
     "name": "stdout",
     "output_type": "stream",
     "text": [
      "('a85af3a2-1e4a-42f0-a699-dbfe622c70a3', 'login', '5f4dcc3b5aa765d61d8327deb882cf99', 0)\n",
      "('e2f68b71-0f93-40de-bdba-96c936343892', 'login', '098f6bcd4621d373cade4e832627b4f6', 0)\n",
      "('bafcef7f-4e71-4467-8916-7ad325cf02b6', 'test_logn', '4ac1b63dca561d274c6055ebf3ed97db', 0)\n",
      "('dd9baef1-59eb-4bd5-8be2-4b7ed14dd90a', 'Анатолій Чорний', '5ebe553e01799a927b1d045924bbd4fd', 0)\n",
      "('ccd8ec3a-6474-4c93-bd2a-2e9fec252ff2', 'Марія Шрейдер', 'd4e3239d7dc1c3b0907092f3796154bb', 0)\n",
      "('f606d682-e4fe-4879-b5aa-bd377007fb66', 'admin', '21232f297a57a5a743894a0e4a801fc3', 1337)\n"
     ]
    }
   ],
   "source": [
    "import psycopg2\n",
    "\n",
    "conn = psycopg2.connect(\"host=localhost dbname=user_db user=kittenrage password=123\")\n",
    "cur = conn.cursor()\n",
    "#cur.execute(\"TRUNCATE TABLE users\")\n",
    "cur.execute(\"SELECT * FROM users\")\n",
    "# (user_id, counter, version) = cur.fetchone()\n",
    "all = cur.fetchall()\n",
    "conn.commit()\n",
    "cur.close()\n",
    "for i in all: print(i)"
   ]
  },
  {
   "cell_type": "code",
   "execution_count": 94,
   "metadata": {},
   "outputs": [
    {
     "data": {
      "text/plain": [
       "True"
      ]
     },
     "execution_count": 94,
     "metadata": {},
     "output_type": "execute_result"
    }
   ],
   "source": [
    "from consul import Consul\n",
    "CONSUL_HOST = \"127.0.0.1\"\n",
    "CONSUL_PORT = 8500\n",
    "CONSUL_CLIENT = Consul(host=CONSUL_HOST, port=CONSUL_PORT)\n",
    "\n",
    "CONSUL_CLIENT.agent.service.deregister('a8fb1b7d-67b1-46cb-a412-c9d051dc34d5')"
   ]
  },
  {
   "cell_type": "code",
   "execution_count": 7,
   "metadata": {},
   "outputs": [
    {
     "name": "stdout",
     "output_type": "stream",
     "text": [
      "('6e01396d-635e-4f73-b6be-804604a15b43', 'Чому варто взяти котика з приюту', \" Багато людей мріють про пухнастого компаньйона, але не всі знають, що окрім розведення чи купівлі тварини у магазині, є й інший чудовий варіант – притулок для тварин.\\n\\nЧому ж варто задуматися про те, щоб взяти котика саме з притулку? Ось декілька причин:\\n\\nВрятуйте життя: Забираючи котика з притулку, ви даруєте йому шанс на щасливе життя в люблячій родині. Багато тварин потрапляють до притулків через жорстоке поводження, згубу або інші складні обставини. Ваш дім може стати для них справжнім раєм.\\nЗнайдіть вірного друга: У притулках живуть котики різного віку, порід та характерів. Ви можете знайти пухнастого компаньйона, який ідеально підходить саме вам та вашому способу життя.\\nЗробіть добру справу: Беручи котика з притулку, ви не лише даруєте йому дім, але й підтримуєте роботу притулку. Це допоможе й іншим тваринам знайти своїх люблячих господарів.\\nЕкономія: Зазвичай, котики з притулків вже вакциновані, стерилізовані/кастровані та оброблені від паразитів. Це значно економить ваші кошти у порівнянні з купівлею тварини у заводчика чи магазину.\\nЧистота породи: У притулках можна знайти не лише безпородних котиків, але й породистих тварин, які з різних причин опинилися без дому.\\nЗвичайно, перед тим, як забрати котика з притулку, важливо ретельно все обміркувати та підготуватися. Вам потрібно буде подбати про їжу, лоток, наповнювач, іграшки та інші необхідні речі. Також важливо познайомитися з котиком, щоб переконатися, що він підходить саме вам.\\n\\nЯкщо ви шукаєте пухнастого друга, завітайте до притулку. Можливо, саме там на вас чекає ваш новий найкращий друг!\\n\\nПам'ятайте: Взяти котика з притулку – це не просто добрий вчинок, це можливість змінити життя на краще для вас обох! \", 'Анатолій Чорний', datetime.date(2024, 5, 28))\n",
      "('7308eab1-3b76-4710-97c6-866a2150fd7f', 'Новий дім: адаптація котика з притулку', \" Вітаємо нового пухнастого члена родини! Адаптація котика з притулку може зайняти деякий час, але ваше терпіння та любов допоможуть йому відчути себе вдома.\\n\\nОсь декілька порад:\\n\\nСтворіть безпечний простір: виділіть кімнату, де котик буде мати їжу, воду, лоток, іграшки та місце для сну. Це місце має бути тихим і спокійним, щоб тварина могла розслабитися.\\nДайте йому час: не змушуйте котика спілкуватися, якщо він не хоче. Дайте йому можливість самостійно дослідити нове середовище.\\nЗабезпечте йому звичні речі: візьміть з притулку улюблену іграшку або підстилку котика, щоб він відчував знайомий запах.\\nГрайте з ним: ігри - це чудовий спосіб подружитися з котиком і допомогти йому розслабитися.\\nБудьте терплячі: кожному котику потрібен свій час на адаптацію. Не лайте його, якщо він робить щось не так, просто перенаправте його на правильні дії.\\nЗверніться за допомогою: якщо у вас виникають проблеми з адаптацією котика, зверніться до ветеринара або фахівця з поведінки тварин.\\nПам'ятайте: ваше кошеня пережило стрес, потрапивши до притулку. Ваша любов, терпіння та турбота допоможуть йому відчути себе в безпеці та щасливим у новому домі.\\n \", 'Шрейдер Марія', datetime.date(2024, 5, 29))\n"
     ]
    }
   ],
   "source": [
    "import mariadb\n",
    "from uuid import uuid4\n",
    "import sys\n",
    "\n",
    "# Connect to MariaDB Platform\n",
    "try:\n",
    "    conn = mariadb.connect(\n",
    "        user=\"root\",\n",
    "        password=\"123\",\n",
    "        host=\"127.0.0.1\",\n",
    "        port=3306,\n",
    "        database=\"articles\"\n",
    "    )\n",
    "except mariadb.Error as e:\n",
    "    print(f\"Error connecting to MariaDB Platform: {e}\")\n",
    "    sys.exit(1)\n",
    "\n",
    "\n",
    "#CREATE DATABASE db_name\n",
    "\n",
    "\n",
    "article_id = str(uuid4())\n",
    "article_name = 'Новий дім: адаптація котика з притулку'\n",
    "article_text = ''' Вітаємо нового пухнастого члена родини! Адаптація котика з притулку може зайняти деякий час, але ваше терпіння та любов допоможуть йому відчути себе вдома.\n",
    "\n",
    "Ось декілька порад:\n",
    "\n",
    "Створіть безпечний простір: виділіть кімнату, де котик буде мати їжу, воду, лоток, іграшки та місце для сну. Це місце має бути тихим і спокійним, щоб тварина могла розслабитися.\n",
    "Дайте йому час: не змушуйте котика спілкуватися, якщо він не хоче. Дайте йому можливість самостійно дослідити нове середовище.\n",
    "Забезпечте йому звичні речі: візьміть з притулку улюблену іграшку або підстилку котика, щоб він відчував знайомий запах.\n",
    "Грайте з ним: ігри - це чудовий спосіб подружитися з котиком і допомогти йому розслабитися.\n",
    "Будьте терплячі: кожному котику потрібен свій час на адаптацію. Не лайте його, якщо він робить щось не так, просто перенаправте його на правильні дії.\n",
    "Зверніться за допомогою: якщо у вас виникають проблеми з адаптацією котика, зверніться до ветеринара або фахівця з поведінки тварин.\n",
    "Пам'ятайте: ваше кошеня пережило стрес, потрапивши до притулку. Ваша любов, терпіння та турбота допоможуть йому відчути себе в безпеці та щасливим у новому домі.\n",
    " '''\n",
    "\n",
    "article_author = 'Шрейдер Марія'\n",
    "\n",
    "article_date = '2024-5-29'\n",
    "\n",
    "# Get Cursor\n",
    "cur = conn.cursor()\n",
    "#cur.execute(\"INSERT INTO articles_tbl (article_id,article_name,article_text,article_author, article_date) VALUES (?, ?, ?, ?, ?)\", (article_id,article_name,article_text,article_author, article_date))\n",
    "#cur.execute(\"SHOW COLUMNS FROM articles.articles_tbl\")\n",
    "#cur.execute(\"DROP TABLE articles_tbl\")\n",
    "#cur.execute(\"CREATE TABLE articles_tbl (article_id CHAR(36), article_name varchar(255), article_text TEXT, article_author varchar(255), article_date DATE)\")\n",
    "cur.execute(\"SELECT * FROM articles_tbl\")\n",
    "all = cur.fetchall()\n",
    "for i in all: print(i)\n",
    "conn.commit()\n",
    "cur.close()"
   ]
  },
  {
   "cell_type": "code",
   "execution_count": 93,
   "metadata": {},
   "outputs": [],
   "source": [
    "from pymongo import MongoClient\n",
    "import gridfs\n",
    "\n",
    "# Establish connection to MongoDB server\n",
    "connection_string = 'mongodb://127.0.0.1:27017,127.0.0.1:27018,127.0.0.1:27019/?replicaSet=rs0'\n",
    "client = MongoClient(connection_string)\n",
    "pets_db = client['pets']\n",
    "cats_collection = pets_db['cats']\n",
    "fs = gridfs.GridFS(pets_db)\n",
    "\n",
    "def upload_image(cat_id, image_path):\n",
    "    with open(image_path, 'rb') as image_file:\n",
    "        image_data = image_file.read()\n",
    "        image_id = fs.put(image_data, filename=image_path)\n",
    "        cats_collection.update_one({'_id': cat_id}, {'$set': {'image_id': image_id}})\n",
    "\n",
    "\n",
    "# Access the \"pets\" database\n",
    "# db = client['pets']\n",
    "\n",
    "# Access the \"cats\" collection within the \"pets\" database\n",
    "# cats_collection = db['cats']\n",
    "# cats_collection.drop()\n",
    "# client.drop_database('pets_db')\n",
    "# # Define 10 different cat objects\n",
    "cats = [\n",
    "    {\"name\": \"Whiskers\", \"age\": 5, \"breed\": \"Persian\", \"color\":\"grey\", \"sex\":\"male\"},\n",
    "    {\"name\": \"Mittens\", \"age\": 3, \"breed\": \"Siamese\", \"color\":\"colorful\", \"sex\":\"male\"},\n",
    "    {\"name\": \"Felix\", \"age\": 2, \"breed\": \"Maine Coon\", \"color\":\"red\", \"sex\":\"male\"},\n",
    "    {\"name\": \"Luna\", \"age\": 1, \"breed\": \"Ragdoll\", \"color\":\"white\", \"sex\":\"female\"},\n",
    "    {\"name\": \"Simba\", \"age\": 4, \"breed\": \"Bengal\", \"color\":\"red\", \"sex\":\"male\"},\n",
    "    {\"name\": \"Tiger\", \"age\": 6, \"breed\": \"Siberian\", \"color\":\"grey\", \"sex\":\"male\"},\n",
    "    {\"name\": \"Oreo\", \"age\": 2, \"breed\": \"British Shorthair\", \"color\":\"black\", \"sex\":\"female\"},\n",
    "    {\"name\": \"Shadow\", \"age\": 3, \"breed\": \"Scottish Fold\", \"color\":\"white\", \"sex\":\"female\"},\n",
    "    {\"name\": \"Smokey\", \"age\": 4, \"breed\": \"Norwegian Forest\", \"color\":\"brown\", \"sex\":\"female\"},\n",
    "    {\"name\": \"Cleo\", \"age\": 2, \"breed\": \"Egyptian Mau\", \"color\":\"colorful\", \"sex\":\"female\"},\n",
    "    {\"name\": \"Jameson\", \"age\": 9, \"breed\": \"Neva Masquerade\", \"color\":\"colorful\", \"sex\":\"male\"},\n",
    "    {\"name\": \"Marsi\", \"age\": 2, \"breed\": \"Abissinian\", \"color\":\"red\", \"sex\":\"female\"}\n",
    "]\n",
    "\n",
    "inserted_ids = cats_collection.insert_many(cats).inserted_ids\n",
    "\n",
    "import os\n",
    "from glob import glob\n",
    "\n",
    "images = glob(os.path.join(\"./static\", \"*.jp*\"))\n",
    "\n",
    "images = [\"static/whiskers.jpg\", \"static/mittens.jpg\", \"static/felix.jpg\", \"static/luna.jpg\", \"static/simba.jpeg\", \"static/tiger.jpeg\",\n",
    "          \"static/oreo.jpeg\", \"static/shadow.jpeg\", \"static/smokey.jpeg\", \"static/cleo.jpeg\", \"static/jameson.jpg\", \"static/marsi.jpg\"]\n",
    "for cat_id, image_path in zip(inserted_ids, images):\n",
    "    upload_image(cat_id, image_path)\n",
    "\n",
    "# # Insert each cat object into the \"cats\" collection {\"name\": \"jema\", \"age\": 4, \"breed\": \"nevskyi\", \"color\":\"colorful\", \"sex\":\"male\"}\n",
    "for cat in cats:\n",
    "    try:\n",
    "        cats_collection.insert_one(cat)\n",
    "    except:\n",
    "        pass\n",
    "\n",
    "# print(\"Inserted 10 cat objects into the 'cats' collection.\")\n",
    "# for cat in cats_collection.aggregate([{\"$match\": {\"sex\": \"male\", \"age\": {\"$gte\": 1.0, \"$lt\": 10.0}}}]): print(cat)\n",
    "#for cat in cats_collection.find({'age': {'$gte': 1.0, '$lte': 10.0}}, {'pet_sex': 'male'} ): print(cat)\n"
   ]
  },
  {
   "cell_type": "code",
   "execution_count": 69,
   "metadata": {},
   "outputs": [
    {
     "name": "stdout",
     "output_type": "stream",
     "text": [
      "<pymongo.cursor.Cursor object at 0x10a747d40>\n",
      "Зображення для кота Whiskers збережено.\n",
      "Зображення для кота Mittens збережено.\n",
      "Зображення для кота Felix збережено.\n",
      "Зображення для кота Luna збережено.\n"
     ]
    }
   ],
   "source": [
    "def get_image(cat_id):\n",
    "    # Знайти документ кота\n",
    "    cat = cats_collection.find_one({'_id': cat_id})\n",
    "    if cat and 'image_id' in cat:\n",
    "        image_id = cat['image_id']\n",
    "        # Отримати файл з GridFS за image_id\n",
    "        image_data = fs.get(image_id).read()\n",
    "        return image_data\n",
    "    else:\n",
    "        raise Exception(\"Кіт або зображення не знайдено\")\n",
    "\n",
    "# Отримання зображень для всіх котів і збереження їх на диск\n",
    "def save_images_to_disk():\n",
    "    cats = cats_collection.find({})\n",
    "    print(cats)\n",
    "    for cat in cats:\n",
    "        cat_id = cat['_id']\n",
    "        image_data = get_image(cat_id)\n",
    "        with open(f\"{cat['name']}_image.jpg\", 'wb') as image_file:\n",
    "            image_file.write(image_data)\n",
    "        print(f\"Зображення для кота {cat['name']} збережено.\")\n",
    "\n",
    "# Виклик функції для збереження зображень на диск\n",
    "save_images_to_disk()"
   ]
  },
  {
   "cell_type": "code",
   "execution_count": 31,
   "metadata": {},
   "outputs": [
    {
     "data": {
      "text/plain": [
       "'21232f297a57a5a743894a0e4a801fc3'"
      ]
     },
     "execution_count": 31,
     "metadata": {},
     "output_type": "execute_result"
    }
   ],
   "source": [
    "from hashlib import md5\n",
    "\n",
    "md5('admin'.encode()).hexdigest()"
   ]
  }
 ],
 "metadata": {
  "kernelspec": {
   "display_name": "Python 3",
   "language": "python",
   "name": "python3"
  },
  "language_info": {
   "codemirror_mode": {
    "name": "ipython",
    "version": 3
   },
   "file_extension": ".py",
   "mimetype": "text/x-python",
   "name": "python",
   "nbconvert_exporter": "python",
   "pygments_lexer": "ipython3",
   "version": "3.10.11"
  }
 },
 "nbformat": 4,
 "nbformat_minor": 2
}
